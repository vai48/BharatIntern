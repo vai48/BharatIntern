{
  "nbformat": 4,
  "nbformat_minor": 0,
  "metadata": {
    "colab": {
      "provenance": []
    },
    "kernelspec": {
      "name": "python3",
      "display_name": "Python 3"
    },
    "language_info": {
      "name": "python"
    }
  },
  "cells": [
    {
      "cell_type": "markdown",
      "source": [
        "# HOUSING PRICE"
      ],
      "metadata": {
        "id": "kbxWjCuD1utp"
      }
    },
    {
      "cell_type": "code",
      "source": [
        "import pandas as pd\n",
        "import matplotlib.pyplot as plt\n"
      ],
      "metadata": {
        "id": "hu-h2q6p1yZA"
      },
      "execution_count": 15,
      "outputs": []
    },
    {
      "cell_type": "code",
      "source": [
        "df_hp=pd.read_csv(\"/content/Bengaluru_House_Data.csv\")\n",
        "df_hp.info()"
      ],
      "metadata": {
        "colab": {
          "base_uri": "https://localhost:8080/"
        },
        "id": "0fJqP0Uu-2hW",
        "outputId": "309a9a47-391a-457a-b25e-9cbae845a9a3"
      },
      "execution_count": 16,
      "outputs": [
        {
          "output_type": "stream",
          "name": "stdout",
          "text": [
            "<class 'pandas.core.frame.DataFrame'>\n",
            "RangeIndex: 13320 entries, 0 to 13319\n",
            "Data columns (total 9 columns):\n",
            " #   Column        Non-Null Count  Dtype  \n",
            "---  ------        --------------  -----  \n",
            " 0   area_type     13320 non-null  object \n",
            " 1   availability  13320 non-null  object \n",
            " 2   location      13319 non-null  object \n",
            " 3   size          13304 non-null  object \n",
            " 4   society       7818 non-null   object \n",
            " 5   total_sqft    13320 non-null  object \n",
            " 6   bath          13247 non-null  float64\n",
            " 7   balcony       12711 non-null  float64\n",
            " 8   price         13320 non-null  float64\n",
            "dtypes: float64(3), object(6)\n",
            "memory usage: 936.7+ KB\n"
          ]
        }
      ]
    },
    {
      "cell_type": "code",
      "source": [
        "def rep_size(obj):\n",
        "  obj=obj.split(\" \")\n",
        "  obj=obj[0]\n",
        "  return obj\n"
      ],
      "metadata": {
        "id": "cNsaR-vu_Q9w"
      },
      "execution_count": 17,
      "outputs": []
    },
    {
      "cell_type": "code",
      "source": [
        "col=[\"society\"]\n",
        "df_hp.drop(columns=col,inplace=True)"
      ],
      "metadata": {
        "id": "KFzRfUyGM5E3"
      },
      "execution_count": 18,
      "outputs": []
    },
    {
      "cell_type": "code",
      "source": [
        "df_hp = df_hp.dropna()\n"
      ],
      "metadata": {
        "id": "_ORVL2A1NUNL"
      },
      "execution_count": 19,
      "outputs": []
    },
    {
      "cell_type": "code",
      "source": [
        "def rep_avai(obj):\n",
        "  obj=obj.split(\"-\")\n",
        "  if(len(obj)>1):\n",
        "    #print(obj)\n",
        "    obj=obj[1]\n",
        "    return obj\n",
        "  return obj[0]"
      ],
      "metadata": {
        "id": "O1q-r4DvU9U5"
      },
      "execution_count": 20,
      "outputs": []
    },
    {
      "cell_type": "code",
      "source": [
        "df_hp[\"size\"]=df_hp[\"size\"].apply(rep_size)"
      ],
      "metadata": {
        "id": "1WjtVYIidPOU"
      },
      "execution_count": 21,
      "outputs": []
    },
    {
      "cell_type": "code",
      "source": [
        "df_hp[\"availability\"]=df_hp[\"availability\"].apply(rep_avai)"
      ],
      "metadata": {
        "id": "JjB3xMlTZ33D"
      },
      "execution_count": 22,
      "outputs": []
    },
    {
      "cell_type": "code",
      "source": [
        "from sklearn.preprocessing import OrdinalEncoder\n",
        "\n",
        "ordinal_encoder = OrdinalEncoder(categories=[['Jan', 'Feb', 'Mar', 'Apr', 'May', 'Jun', 'Jul', 'Aug', 'Sep','Oct', 'Nov', 'Dec', 'Ready To Move']])\n",
        "df_hp['availability'] = ordinal_encoder.fit_transform(df_hp[['availability']])\n",
        "\"\"\"\n",
        "from sklearn.preprocessing import OrdinalEncoder\n",
        "\n",
        "# Define your ordinal categories\n",
        "categories = [['Jan', 'Feb', 'Mar', 'Apr', 'May', 'Jun', 'Jul', 'Aug', 'Sep', 'Oct', 'Nov', 'Dec', 'Ready To Move']]\n",
        "\n",
        "# Initialize OrdinalEncoder with your categories\n",
        "ordinal_encoder = OrdinalEncoder(categories=categories)\n",
        "\n",
        "# Fit and transform your ordinal column\n",
        "encoded_values = ordinal_encoder.fit_transform(df_hp[['availability']])\n",
        "\n",
        "# Add 1 to the encoded values to start from 1\n",
        "encoded_values += 1\n",
        "\n",
        "# Assign the encoded values to a new column\n",
        "df_hp['availability_encoded'] = encoded_values\n",
        "\n",
        "# Access the learned categories along with their numerical representations\n",
        "category_mapping = dict(zip(ordinal_encoder.categories_[0], range(1, len(ordinal_encoder.categories_[0]) + 1)))\n",
        "\n",
        "print(\"Category mapping:\")\n",
        "print(category_mapping)\n",
        "\n",
        "\n",
        "#df_hp[\"availability\"]=df_hp[\"availability\"].replace('Jan',0)\"\"\""
      ],
      "metadata": {
        "colab": {
          "base_uri": "https://localhost:8080/",
          "height": 140
        },
        "id": "tZcxO8IkjvUy",
        "outputId": "e30bcad0-373f-4f4d-c56f-996ace8e0696"
      },
      "execution_count": 23,
      "outputs": [
        {
          "output_type": "execute_result",
          "data": {
            "text/plain": [
              "'\\nfrom sklearn.preprocessing import OrdinalEncoder\\n\\n# Define your ordinal categories\\ncategories = [[\\'Jan\\', \\'Feb\\', \\'Mar\\', \\'Apr\\', \\'May\\', \\'Jun\\', \\'Jul\\', \\'Aug\\', \\'Sep\\', \\'Oct\\', \\'Nov\\', \\'Dec\\', \\'Ready To Move\\']]\\n\\n# Initialize OrdinalEncoder with your categories\\nordinal_encoder = OrdinalEncoder(categories=categories)\\n\\n# Fit and transform your ordinal column\\nencoded_values = ordinal_encoder.fit_transform(df_hp[[\\'availability\\']])\\n\\n# Add 1 to the encoded values to start from 1\\nencoded_values += 1\\n\\n# Assign the encoded values to a new column\\ndf_hp[\\'availability_encoded\\'] = encoded_values\\n\\n# Access the learned categories along with their numerical representations\\ncategory_mapping = dict(zip(ordinal_encoder.categories_[0], range(1, len(ordinal_encoder.categories_[0]) + 1)))\\n\\nprint(\"Category mapping:\")\\nprint(category_mapping)\\n\\n\\n#df_hp[\"availability\"]=df_hp[\"availability\"].replace(\\'Jan\\',0)'"
            ],
            "application/vnd.google.colaboratory.intrinsic+json": {
              "type": "string"
            }
          },
          "metadata": {},
          "execution_count": 23
        }
      ]
    },
    {
      "cell_type": "code",
      "source": [
        "from sklearn.preprocessing import LabelEncoder\n",
        "\n",
        "# Initialize LabelEncoder\n",
        "label_encoder = LabelEncoder()\n",
        "\n",
        "# Fit and transform the 'availability' column\n",
        "df_hp['area_type'] = label_encoder.fit_transform(df_hp['area_type'])"
      ],
      "metadata": {
        "id": "levhHGDVnwzk"
      },
      "execution_count": 24,
      "outputs": []
    },
    {
      "cell_type": "code",
      "source": [
        "df_hp['location'] = label_encoder.fit_transform(df_hp['location'])\n",
        "#df_hp = pd.get_dummies(df_hp, columns=['location'])\n"
      ],
      "metadata": {
        "id": "d-8C6cTBoJjl"
      },
      "execution_count": 25,
      "outputs": []
    },
    {
      "cell_type": "code",
      "source": [
        "import re\n",
        "def total_sq_modify(obj):\n",
        "    if(re.search(r'\\D+', obj)):\n",
        "        output = re.search(r'\\D+', obj).group()\n",
        "        if (output==\"Acres\"):\n",
        "          numeric_part = re.search(r'\\d+', obj).group()\n",
        "          obj=float(numeric_part)*4046.86\n",
        "        elif (output==\"Sq. Yards\"):\n",
        "          numeric_part = re.search(r'\\d+', obj).group()\n",
        "          obj=float(numeric_part)*0.836127\n",
        "        elif (output==\"Sq. Meter\"):\n",
        "          numeric_part = re.search(r'\\d+', obj).group()\n",
        "          obj=float(numeric_part)*1\n",
        "        elif (output==\"Cents\"):\n",
        "          numeric_part = re.search(r'\\d+', obj).group()\n",
        "          obj=float(numeric_part)*40.47\n",
        "        elif (output==\"Guntha\"):\n",
        "          numeric_part = re.search(r'\\d+', obj).group()\n",
        "          obj=float(numeric_part)*101.171367\n",
        "        elif (output==\"Grounds\"):\n",
        "          numeric_part = re.search(r'\\d+', obj).group()\n",
        "          obj=float(numeric_part)*222.9675\n",
        "        else:\n",
        "            numeric_part = re.search(r'\\d+', obj).group()\n",
        "            obj=float(numeric_part)\n",
        "    else:\n",
        "        numeric_part = re.search(r'\\d+', obj).group()\n",
        "        obj=float(numeric_part)\n",
        "\n",
        "\n",
        "    return obj"
      ],
      "metadata": {
        "id": "Rf3UvY11_C6t"
      },
      "execution_count": 26,
      "outputs": []
    },
    {
      "cell_type": "code",
      "source": [
        "df_hp['total_sqft']=df_hp['total_sqft'].apply(total_sq_modify)"
      ],
      "metadata": {
        "id": "rwg26gQ-_SWs"
      },
      "execution_count": 27,
      "outputs": []
    },
    {
      "cell_type": "code",
      "source": [
        "# Extract values from the 'total_sqft' column\n",
        "unique_total_sqft = df_hp['total_sqft']\n",
        "\n",
        "# Convert the unique values to a DataFrame\n",
        "unique_total_sqft_df = pd.DataFrame(unique_total_sqft)\n",
        "\n",
        "# Write the DataFrame to a text file\n",
        "unique_total_sqft_df.to_csv('unique_total_sqft.txt', header=False, index=False)\n"
      ],
      "metadata": {
        "id": "uXBzf-Sk9Ph-"
      },
      "execution_count": 34,
      "outputs": []
    },
    {
      "cell_type": "code",
      "source": [
        "from sklearn.linear_model import LinearRegression\n",
        "from sklearn.metrics import mean_squared_error\n",
        "from sklearn.model_selection import train_test_split\n",
        "\n",
        "target_column = 'price'\n",
        "X = df_hp.drop(columns=[target_column])\n",
        "y = df_hp[target_column]\n",
        "X_train_full, X_test, y_train_full, y_test = train_test_split(X, y, test_size=0.2, random_state=42)\n",
        "X_train, X_val, y_train, y_val = train_test_split(X_train_full, y_train_full, test_size=0.25, random_state=42) # 0.25 * 0.8 = 0.2\n",
        "\n",
        "# Step 3: Create and train the linear regression model\n",
        "model = LinearRegression()\n",
        "model.fit(X_train, y_train)\n",
        "\n",
        "# Step 4: Evaluate the model on the validation set\n",
        "y_val_pred = model.predict(X_val)\n",
        "\n",
        "# Calculate Mean Squared Error (MSE) on the validation set\n",
        "val_mse = mean_squared_error(y_val, y_val_pred)\n",
        "print(\"Validation Mean Squared Error:\", val_mse)\n",
        "# Step 5: Evaluate the model on the testing set\n",
        "y_test_pred = model.predict(X_test)\n",
        "\n",
        "# Calculate Mean Squared Error (MSE) on the testing set\n",
        "test_mse = mean_squared_error(y_test, y_test_pred)\n",
        "print(\"Test Mean Squared Error:\", test_mse)\n",
        "import numpy as np\n",
        "\n",
        "# Calculate Root Mean Squared Error (RMSE) for validation set\n",
        "val_rmse = np.sqrt(val_mse)\n",
        "print(\"Validation Root Mean Squared Error:\", val_rmse)\n",
        "\n",
        "# Calculate Root Mean Squared Error (RMSE) for test set\n",
        "test_rmse = np.sqrt(test_mse)\n",
        "print(\"Test Root Mean Squared Error:\", test_rmse)\n",
        "\n"
      ],
      "metadata": {
        "colab": {
          "base_uri": "https://localhost:8080/"
        },
        "id": "eXepr85po_1u",
        "outputId": "01c1d97d-b0a5-4917-f3e9-21e41b5cee4a"
      },
      "execution_count": 40,
      "outputs": [
        {
          "output_type": "stream",
          "name": "stdout",
          "text": [
            "Validation Mean Squared Error: 18148.444603398508\n",
            "Test Mean Squared Error: 13316.371269824758\n",
            "Validation Root Mean Squared Error: 134.7161631111817\n",
            "Test Root Mean Squared Error: 115.39658257428925\n"
          ]
        }
      ]
    }
  ]
}